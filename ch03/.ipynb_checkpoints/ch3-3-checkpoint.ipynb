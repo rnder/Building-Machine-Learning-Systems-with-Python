{
 "cells": [
  {
   "cell_type": "markdown",
   "metadata": {},
   "source": [
    "## 테스트 데이터 사용"
   ]
  },
  {
   "cell_type": "code",
   "execution_count": 45,
   "metadata": {
    "collapsed": false
   },
   "outputs": [
    {
     "name": "stdout",
     "output_type": "stream",
     "text": [
      "Number of total posts: 18846\n",
      "('Number of training posts in tech groups:', 3529)\n"
     ]
    }
   ],
   "source": [
    "import sklearn.datasets\n",
    "import scipy as sp\n",
    "\n",
    "# 전체 테스트 데이터 다운로드\n",
    "all_data = sklearn.datasets.fetch_20newsgroups(subset=\"all\")\n",
    "print(\"Number of total posts: %i\" % len(all_data.filenames))\n",
    "# Number of total posts: 18846\n",
    "\n",
    "groups = [\n",
    "    'comp.graphics', 'comp.os.ms-windows.misc', 'comp.sys.ibm.pc.hardware',\n",
    "    'comp.sys.mac.hardware', 'comp.windows.x', 'sci.space']\n",
    "# 한정된 카테고리로 훈련 셋 구성\n",
    "train_data = sklearn.datasets.fetch_20newsgroups(subset=\"train\",\n",
    "                                                 categories=groups)\n",
    "print(\"Number of training posts in tech groups:\", len(train_data.filenames))\n",
    "# Number of training posts in tech groups: 3529\n",
    "\n",
    "num_clusters = 50 # sp.unique(labels).shape[0]"
   ]
  },
  {
   "cell_type": "code",
   "execution_count": 46,
   "metadata": {
    "collapsed": false
   },
   "outputs": [],
   "source": [
    "import nltk.stem\n",
    "english_stemmer = nltk.stem.SnowballStemmer('english')\n",
    "\n",
    "from sklearn.feature_extraction.text import TfidfVectorizer\n",
    "\n",
    "\n",
    "class StemmedTfidfVectorizer(TfidfVectorizer):\n",
    "\n",
    "    def build_analyzer(self):\n",
    "        analyzer = super(TfidfVectorizer, self).build_analyzer()\n",
    "        return lambda doc: (english_stemmer.stem(w) for w in analyzer(doc))"
   ]
  },
  {
   "cell_type": "code",
   "execution_count": 47,
   "metadata": {
    "collapsed": false
   },
   "outputs": [
    {
     "name": "stdout",
     "output_type": "stream",
     "text": [
      "#samples: 3529, #features: 4712\n"
     ]
    }
   ],
   "source": [
    "vectorizer = StemmedTfidfVectorizer(min_df=10, max_df=0.5,\n",
    "                                    stop_words='english', decode_error='ignore'\n",
    "                                    )\n",
    "\n",
    "# 학습 데이터 벡터화\n",
    "vectorized = vectorizer.fit_transform(train_data.data)\n",
    "num_samples, num_features = vectorized.shape\n",
    "print(\"#samples: %d, #features: %d\" % (num_samples, num_features))\n",
    "# samples: 3529, #features: 4712"
   ]
  },
  {
   "cell_type": "code",
   "execution_count": 48,
   "metadata": {
    "collapsed": false
   },
   "outputs": [
    {
     "name": "stdout",
     "output_type": "stream",
     "text": [
      "Initialization complete\n",
      "Iteration  0, inertia 5686.053\n",
      "Iteration  1, inertia 3164.888\n",
      "Iteration  2, inertia 3132.208\n",
      "Iteration  3, inertia 3111.713\n",
      "Iteration  4, inertia 3098.584\n",
      "Iteration  5, inertia 3092.191\n",
      "Iteration  6, inertia 3087.277\n",
      "Iteration  7, inertia 3084.100\n",
      "Iteration  8, inertia 3082.800\n",
      "Iteration  9, inertia 3082.234\n",
      "Iteration 10, inertia 3081.949\n",
      "Iteration 11, inertia 3081.843\n",
      "Iteration 12, inertia 3081.791\n",
      "Iteration 13, inertia 3081.752\n",
      "Iteration 14, inertia 3081.660\n",
      "Iteration 15, inertia 3081.617\n",
      "Iteration 16, inertia 3081.589\n",
      "Iteration 17, inertia 3081.571\n",
      "Converged at iteration 17\n",
      "km.labels_=[48 23 31 ...,  6  2 22]\n",
      "km.labels_.shape=3529\n"
     ]
    }
   ],
   "source": [
    "# 벡터화된 학습 데이터를 군집화\n",
    "from sklearn.cluster import KMeans\n",
    "\n",
    "km = KMeans(n_clusters=num_clusters, n_init=1, verbose=1, random_state=3)\n",
    "clustered = km.fit(vectorized)\n",
    "\n",
    "print(\"km.labels_=%s\" % km.labels_)\n",
    "# km.labels_=[ 6 34 22 ...,  2 21 26]\n",
    "\n",
    "print(\"km.labels_.shape=%s\" % km.labels_.shape)\n",
    "# km.labels_.shape=3529"
   ]
  },
  {
   "cell_type": "code",
   "execution_count": 50,
   "metadata": {
    "collapsed": false
   },
   "outputs": [
    {
     "name": "stdout",
     "output_type": "stream",
     "text": [
      "Homogeneity: 0.445\n",
      "Completeness: 0.231\n",
      "V-measure: 0.304\n",
      "Adjusted Rand Index: 0.094\n",
      "Adjusted Mutual Information: 0.223\n",
      "Silhouette Coefficient: 0.006\n"
     ]
    }
   ],
   "source": [
    "# KMeans가 군집화한 labels와 학습 데이터의 labels 비교\n",
    "from sklearn import metrics\n",
    "\n",
    "labels = train_data.target\n",
    "\n",
    "print(\"Homogeneity: %0.3f\" % metrics.homogeneity_score(labels, km.labels_))\n",
    "#               : 0.400\n",
    "print(\"Completeness: %0.3f\" % metrics.completeness_score(labels, km.labels_))\n",
    "# Completeness: 0.206\n",
    "print(\"V-measure: %0.3f\" % metrics.v_measure_score(labels, km.labels_))\n",
    "# V-measure: 0.272\n",
    "print(\"Adjusted Rand Index: %0.3f\" %\n",
    "      metrics.adjusted_rand_score(labels, km.labels_))\n",
    "# Adjusted Rand Index: 0.064\n",
    "print(\"Adjusted Mutual Information: %0.3f\" %\n",
    "      metrics.adjusted_mutual_info_score(labels, km.labels_))\n",
    "# Adjusted Mutual Information: 0.197\n",
    "print((\"Silhouette Coefficient: %0.3f\" %\n",
    "       metrics.silhouette_score(vectorized, labels, sample_size=1000)))\n",
    "# Silhouette Coefficient: 0.006"
   ]
  },
  {
   "cell_type": "code",
   "execution_count": 51,
   "metadata": {
    "collapsed": false
   },
   "outputs": [
    {
     "name": "stdout",
     "output_type": "stream",
     "text": [
      "  (0, 4678)\t0.234582932587\n",
      "  (0, 4596)\t0.168434406118\n",
      "  (0, 4246)\t0.189649264834\n",
      "  (0, 4152)\t0.155217902356\n",
      "  (0, 3329)\t0.350698953458\n",
      "  (0, 2210)\t0.248333220084\n",
      "  (0, 2136)\t0.233185464275\n",
      "  (0, 2088)\t0.253142237739\n",
      "  (0, 1864)\t0.276864427192\n",
      "  (0, 1540)\t0.228592867093\n",
      "  (0, 1508)\t0.245927256346\n",
      "  (0, 1481)\t0.503689553724\n",
      "  (0, 878)\t0.3321651222\n",
      "9\n"
     ]
    }
   ],
   "source": [
    "# 신규 포스트 등록\n",
    "new_post = \\\n",
    "    \"\"\"Disk drive problems. Hi, I have a problem with my hard disk.\n",
    "After 1 year it is working only sporadically now.\n",
    "I tried to format it, but now it doesn't boot any more.\n",
    "Any ideas? Thanks.\n",
    "\"\"\"\n",
    "\n",
    "# 신규 포스트 벡터화\n",
    "new_post_vec = vectorizer.transform([new_post])\n",
    "# 신규 포스트 군집 획득\n",
    "new_post_label = km.predict(new_post_vec)[0]\n",
    "\n",
    "print(new_post_vec)\n",
    "print(new_post_label)"
   ]
  },
  {
   "cell_type": "code",
   "execution_count": 52,
   "metadata": {
    "collapsed": false
   },
   "outputs": [],
   "source": [
    "# 동일 군집내에 있는 유사한 문서들의 인덱스 추출\n",
    "# km.labels_ : 군집화된 labels\n",
    "# new_post_label : 신규 포스트의 label\n",
    "# numpy.ndarray.nonezero() : 배열에서 True인 항목의 인덱스가 포함된 배열 반환\n",
    "similar_indices = (km.labels_ == new_post_label).nonzero()[0]"
   ]
  },
  {
   "cell_type": "code",
   "execution_count": 53,
   "metadata": {
    "collapsed": false,
    "scrolled": true
   },
   "outputs": [
    {
     "name": "stdout",
     "output_type": "stream",
     "text": [
      "[  69  152  157  167  201  225  228  233  359  463  479  520  552  580  622\n",
      "  676  779  882  884  917  939 1114 1253 1286 1486 1531 1752 1806 1809 1986\n",
      " 2061 2249 2351 2412 2447 2493 2499 2510 2512 2600 2730 2800 2889 3080 3111\n",
      " 3145 3146 3199 3202 3278 3285 3297 3310 3350 3437 3458]\n",
      "56\n"
     ]
    }
   ],
   "source": [
    "print(similar_indices)\n",
    "print(len(similar_indices))"
   ]
  },
  {
   "cell_type": "code",
   "execution_count": 54,
   "metadata": {
    "collapsed": false,
    "scrolled": true
   },
   "outputs": [
    {
     "name": "stdout",
     "output_type": "stream",
     "text": [
      "Count similar: 56\n"
     ]
    }
   ],
   "source": [
    "similar = []\n",
    "for i in similar_indices:\n",
    "    # 동일 군집의 다른 문서들과의 거리 측정 \n",
    "    dist = sp.linalg.norm((new_post_vec - vectorized[i]).toarray())\n",
    "    similar.append((dist, train_data.data[i]))\n",
    "\n",
    "similar = sorted(similar)\n",
    "print(\"Count similar: %i\" % len(similar))"
   ]
  },
  {
   "cell_type": "code",
   "execution_count": 55,
   "metadata": {
    "collapsed": false
   },
   "outputs": [
    {
     "name": "stdout",
     "output_type": "stream",
     "text": [
      "=== #1 ===\n",
      "dist: 1.037844\n",
      "From: Thomas Dachsel <GERTHD@mvs.sas.com>\n",
      "Subject: BOOT PROBLEM with IDE controller\n",
      "Nntp-Posting-Host: sdcmvs.mvs.sas.com\n",
      "Organization: SAS Institute Inc.\n",
      "Lines: 25\n",
      "\n",
      "Hi,\n",
      "I've got a Multi I/O card (IDE controller + serial/parallel\n",
      "interface) and two floppy drives (5 1/4, 3 1/2) and a\n",
      "Quantum ProDrive 80AT connected to it.\n",
      "I was able to format the hard disk, but I could not boot from\n",
      "it. I can boot from drive A: (which disk drive does not matter)\n",
      "but if I remove the disk from drive A and press the reset switch,\n",
      "the LED of drive A: continues to glow, and the hard disk is\n",
      "not accessed at all.\n",
      "I guess this must be a problem of either the Multi I/o card\n",
      "or floppy disk drive settings (jumper configuration?)\n",
      "Does someone have any hint what could be the reason for it.\n",
      "Please reply by email to GERTHD@MVS.SAS.COM\n",
      "Thanks,\n",
      "Thomas\n",
      "+-------------------------------------------------------------------+\n",
      "| Thomas Dachsel                                                    |\n",
      "| Internet: GERTHD@MVS.SAS.COM                                      |\n",
      "| Fidonet:  Thomas_Dachsel@camel.fido.de (2:247/40)                 |\n",
      "| Subnet:   dachsel@rnivh.rni.sub.org (UUCP in Germany, now active) |\n",
      "| Phone:    +49 6221 4150 (work), +49 6203 12274 (home)             |\n",
      "| Fax:      +49 6221 415101                                         |\n",
      "| Snail:    SAS Institute GmbH, P.O.Box 105307, D-W-6900 Heidelberg |\n",
      "| Tagline:  One bad sector can ruin a whole day...                  |\n",
      "+-------------------------------------------------------------------+\n",
      "\n"
     ]
    }
   ],
   "source": [
    "# 가장 유사한 문서\n",
    "show_at_1 = similar[0]\n",
    "\n",
    "print(\"=== #1 ===\")\n",
    "print(\"dist: %f\" % show_at_1[0])\n",
    "print(show_at_1[1])"
   ]
  },
  {
   "cell_type": "code",
   "execution_count": 56,
   "metadata": {
    "collapsed": false
   },
   "outputs": [
    {
     "name": "stdout",
     "output_type": "stream",
     "text": [
      "=== #2 ===\n",
      "dist: 1.279396\n",
      "From: vg@volkmar.Stollmann.DE (Volkmar Grote)\n",
      "Subject: IBM PS/1 vs TEAC FD\n",
      "Distribution: world\n",
      "Organization: Me? Organized?\n",
      "Lines: 21\n",
      "\n",
      "Hello,\n",
      "\n",
      "I already tried our national news group without success.\n",
      "\n",
      "I tried to replace a friend's original IBM floppy disk in his PS/1-PC\n",
      "with a normal TEAC drive.\n",
      "I already identified the power supply on pins 3 (5V) and 6 (12V), shorted\n",
      "pin 6 (5.25\"/3.5\" switch) and inserted pullup resistors (2K2) on pins\n",
      "8, 26, 28, 30, and 34.\n",
      "The computer doesn't complain about a missing FD, but the FD's light\n",
      "stays on all the time. The drive spins up o.k. when I insert a disk,\n",
      "but I can't access it.\n",
      "The TEAC works fine in a normal PC.\n",
      "\n",
      "Are there any points I missed?\n",
      "\n",
      "Thank you.\n",
      "\tVolkmar\n",
      "\n",
      "---\n",
      "Volkmar.Grote@Stollmann.DE\n",
      "\n"
     ]
    }
   ],
   "source": [
    "# 중간의 문서\n",
    "show_at_2 = similar[int(len(similar) / 2)]\n",
    "print(\"=== #2 ===\")\n",
    "print(\"dist: %f\" % show_at_2[0])\n",
    "print(show_at_2[1])"
   ]
  },
  {
   "cell_type": "code",
   "execution_count": 57,
   "metadata": {
    "collapsed": false,
    "scrolled": false
   },
   "outputs": [
    {
     "name": "stdout",
     "output_type": "stream",
     "text": [
      "=== #3 ===\n",
      "dist: 1.368634\n",
      "From: bss_brucep@vd.seqeb.gov.au (Bruce Powell)\n",
      "Subject: Re: ESDI with IDE??? -- Yes it should be Possible,\n",
      "Organization: South East Queensland Electricity Board\n",
      "Lines: 27\n",
      "\n",
      "In article <1993Apr16.033802.6605@monu6.cc.monash.edu.au>, els390r@fawlty1.eng.monash.edu.au (G Chow) writes:\n",
      "> In article <1qegfd$dqi@wsinis03.info.win.tue.nl> monty@wsinis03.info.win.tue.nl (Guido Leenders) writes:\n",
      ">>Hi,\n",
      ">>\n",
      ">>Is it possible to use an ESDI-controller with HDD together with an\n",
      ">>IDE-harddisk + controller in one ISA-system?\n",
      ">>\n",
      ">>I've read stuff about secondary controllers. Does this trick work?\n",
      ">>\n",
      ">>Thanx in advance,\n",
      ">>\n",
      ">>Guido\n",
      ">>monty@win.tue.nl\n",
      "> \n",
      "> I have the same question as Guido. It is possible to use the ESDI drive \n",
      "> as a master and the IDE drive as the slave ? \n",
      "\n",
      "I can definitily say that you can use an RLL as Master and IDE as slave, as\n",
      "I have just upgraded my machine with a 200Mb IDE ( And custom Controller\n",
      "Mdl CI-1010 Extended IDE Controller ) While maintaining my RLL'd Wren as\n",
      "master Drive.  The trick is the controller which supports up to 4 IDE Drives\n",
      "while coexisting with existing Controllers ( MFM,RLL,ESDI,SCSI ).\n",
      "\n",
      "So according to the Documentation it should work with ESDI, and I can assure\n",
      "you it works with RLL.\n",
      "\n",
      "Bruce Powell\t\t\t\temail: bss_brucep@vd.seqeb.gov.au\n",
      "\n"
     ]
    }
   ],
   "source": [
    "# 마지막 문서\n",
    "show_at_3 = similar[-1]\n",
    "print(\"=== #3 ===\")\n",
    "print(\"dist: %f\" % show_at_3[0])\n",
    "print(show_at_3[1])"
   ]
  },
  {
   "cell_type": "markdown",
   "metadata": {},
   "source": [
    "## 노이즈\n",
    "### 군집화는 되었으나, 게시물의 카테고리는?"
   ]
  },
  {
   "cell_type": "code",
   "execution_count": 58,
   "metadata": {
    "collapsed": false,
    "scrolled": true
   },
   "outputs": [
    {
     "name": "stdout",
     "output_type": "stream",
     "text": [
      "[(162, u'Subject: E-mail of Michael Abrash?\\nFrom: gmontem@eis.calstate.edu (George A. Montemayor)\\nOrganization: Calif State Univ/Electronic Information Services\\nLines: 0\\n\\n', 'comp.graphics'), (217, u'From:  Valentin E. Vulihman <vulih@ipmce.su>\\nSubject: Attractive drawing on the sphere\\nLines: 2\\nReply-To: vulih@ipmce.su\\nOrganization: Inst. of Prec. Mech. & Comp. Equip., Moscow, Russia\\n\\nsubscribe comp.graphics\\nquit\\n', 'comp.graphics'), (217, u'From: hwstock@snll-arpagw.llnl.gov (stockman harlan w)\\nSubject: hp2xx for DOS\\nOrganization: Sandia National Laboratories\\nLines: 3\\n\\n\\nIs there a precompiled version of hp2xx for DOS out there - prefereably\\nfor 386/486?\\n', 'comp.graphics'), (238, u'From: news@magnus.acs.ohio-state.edu\\nSubject: Package for Fashion Designer?\\nNntp-Posting-Host: bottom.magnus.acs.ohio-state.edu\\nOrganization: The Ohio State University\\nLines: 1\\n\\nThis article was probably generated by a buggy news reader.\\n', 'comp.graphics')]\n"
     ]
    }
   ],
   "source": [
    "# 학습 데이터에서 일부를 출력하고, comp.graphics 카테고리의 포스트들을 거름\n",
    "\n",
    "post_group = zip(train_data.data, train_data.target)\n",
    "# Create a list of tuples that can be sorted by\n",
    "# the length of the posts\n",
    "all = [(len(post[0]), post[0], train_data.target_names[post[1]])\n",
    "       for post in post_group]\n",
    "graphics = sorted([post for post in all if post[2] == 'comp.graphics'])\n",
    "\n",
    "print(graphics[1:5])"
   ]
  },
  {
   "cell_type": "code",
   "execution_count": 59,
   "metadata": {
    "collapsed": false
   },
   "outputs": [
    {
     "name": "stdout",
     "output_type": "stream",
     "text": [
      "[(160, u'From: passman@world.std.com (Shirley L Passman)\\nSubject: help with no docs for motherboard\\nOrganization: The World Public Access UNIX, Brookline, MA\\nLines: 1\\n\\n\\n', 'comp.sys.ibm.pc.hardware'), (162, u'Subject: E-mail of Michael Abrash?\\nFrom: gmontem@eis.calstate.edu (George A. Montemayor)\\nOrganization: Calif State Univ/Electronic Information Services\\nLines: 0\\n\\n', 'comp.graphics')]\n"
     ]
    }
   ],
   "source": [
    "z = sorted(all)\n",
    "print(z[5:7])"
   ]
  },
  {
   "cell_type": "code",
   "execution_count": 60,
   "metadata": {
    "collapsed": false
   },
   "outputs": [
    {
     "name": "stdout",
     "output_type": "stream",
     "text": [
      "[u'passman', u'world', u'std', u'com', u'shirley', u'passman', u'subject', u'help', u'doc', u'motherboard', u'organ', u'world', u'public', u'access', u'unix', u'brooklin', u'ma', u'line']\n"
     ]
    }
   ],
   "source": [
    "# \n",
    "noise_post = z[5][1]\n",
    "\n",
    "analyzer = vectorizer.build_analyzer()\n",
    "print(list(analyzer(noise_post)))"
   ]
  },
  {
   "cell_type": "code",
   "execution_count": 61,
   "metadata": {
    "collapsed": false
   },
   "outputs": [
    {
     "name": "stdout",
     "output_type": "stream",
     "text": [
      "[u'access', u'brooklin', u'com', u'doc', u'help', u'ma', u'motherboard', u'public', u'std', u'unix', u'world']\n"
     ]
    }
   ],
   "source": [
    "useful = set(analyzer(noise_post)).intersection(vectorizer.get_feature_names())\n",
    "print(sorted(useful))"
   ]
  },
  {
   "cell_type": "code",
   "execution_count": 62,
   "metadata": {
    "collapsed": false
   },
   "outputs": [
    {
     "name": "stdout",
     "output_type": "stream",
     "text": [
      "IDF(access)=3.18\n",
      "IDF(brooklin)=6.03\n",
      "IDF(com)=2.03\n",
      "IDF(doc)=5.22\n",
      "IDF(help)=2.54\n",
      "IDF(ma)=4.44\n",
      "IDF(motherboard)=4.42\n",
      "IDF(public)=3.93\n",
      "IDF(std)=5.26\n",
      "IDF(unix)=3.73\n",
      "IDF(world)=2.85\n"
     ]
    }
   ],
   "source": [
    "for term in sorted(useful):\n",
    "    print('IDF(%s)=%.2f' % (term,\n",
    "                            vectorizer._tfidf.idf_[vectorizer.vocabulary_[term]]))"
   ]
  },
  {
   "cell_type": "code",
   "execution_count": null,
   "metadata": {
    "collapsed": true
   },
   "outputs": [],
   "source": []
  }
 ],
 "metadata": {
  "kernelspec": {
   "display_name": "Python 2",
   "language": "python",
   "name": "python2"
  },
  "language_info": {
   "codemirror_mode": {
    "name": "ipython",
    "version": 2
   },
   "file_extension": ".py",
   "mimetype": "text/x-python",
   "name": "python",
   "nbconvert_exporter": "python",
   "pygments_lexer": "ipython2",
   "version": "2.7.11+"
  }
 },
 "nbformat": 4,
 "nbformat_minor": 0
}
